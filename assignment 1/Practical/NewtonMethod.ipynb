{
  "cells": [
    {
      "cell_type": "markdown",
      "metadata": {
        "id": "ifY3pbKCwjzT"
      },
      "source": [
        "## Part B: Newton Method Implementation"
      ]
    },
    {
      "cell_type": "code",
      "execution_count": 11,
      "metadata": {
        "id": "MDUZWZuUwjzT"
      },
      "outputs": [],
      "source": [
        "import numpy as np\n",
        "import matplotlib.pyplot as plt"
      ]
    },
    {
      "cell_type": "code",
      "execution_count": 12,
      "metadata": {
        "id": "00zam7SIwjzV"
      },
      "outputs": [],
      "source": [
        "def func(x1, x2):\n",
        "    # Define the function\n",
        "    ####### TODO ########\n",
        "    res = 2 * x1**2 + 2 * x2**2 - 17 * x2 * np.cos(0.2 * np.pi * x1)\n",
        "    res -= x1*x2\n",
        "    #####################\n",
        "    return res"
      ]
    },
    {
      "cell_type": "code",
      "execution_count": 13,
      "metadata": {
        "id": "1pnTh5xhwjzW"
      },
      "outputs": [],
      "source": [
        "def hessian(x1, x2):\n",
        "    # Calculate the hessian matrix\n",
        "    # Use theoretically-derived formulas to implement this function\n",
        "    ####### TODO ########\n",
        "    res = np.zeros((2,2))\n",
        "    res[0,0] = 4 + np.pi ** 2 * 3.4 * 0.2 * x2 * np.cos(0.2 * np.pi * x1)\n",
        "    res[1,1] = 4\n",
        "    res[1,0] = 17 * 0.2 * np.pi * np.sin(0.2 * np.pi * x1) - 1\n",
        "    res[0,1] = res[1,0]\n",
        "    #####################\n",
        "    return res"
      ]
    },
    {
      "cell_type": "code",
      "execution_count": 14,
      "metadata": {
        "id": "6U0iy9YSwjzW"
      },
      "outputs": [],
      "source": [
        "# Define function inputs\n",
        "def hessianInv(hessian):\n",
        "    # Calculate the determinant and inverse of the hessian matrix\n",
        "    ####### TODO ########\n",
        "    res = np.zeros_like(hessian)\n",
        "    res[0,0] = hessian[1,1]\n",
        "    res[0,1] = -hessian[0,1]\n",
        "    res[1,0] = -hessian[1,0]\n",
        "    res[1,1] = hessian[0,0]\n",
        "    denom = hessian[0,0] * hessian[1,1] - hessian[0,1] * hessian[1,0] \n",
        "    #####################\n",
        "    return res / denom"
      ]
    },
    {
      "cell_type": "code",
      "execution_count": 15,
      "metadata": {
        "id": "3xMTyu7swjzX"
      },
      "outputs": [],
      "source": [
        "def gradient(x1, x2):\n",
        "    # Calculate the gradient vector\n",
        "    # Use theoretically-derived formulas to implement this function\n",
        "    ####### TODO ########\n",
        "    res = np.zeros((2,1))\n",
        "    res[0] = 4*x1 - x2 + 17 * 0.2 * np.pi * x2 * np.sin(0.2 * np.pi * x1)\n",
        "    res[1] = 4*x2 - x1 - 17 * np.cos(0.2 * np.pi * x1)\n",
        "    #####################\n",
        "    return res"
      ]
    },
    {
      "cell_type": "code",
      "execution_count": 16,
      "metadata": {
        "id": "edwHQ6fdwjzX"
      },
      "outputs": [],
      "source": [
        "def newtonMethod(x1, x2, epochs):\n",
        "    for i in range(epochs):\n",
        "        # Perform one step of the newton method\n",
        "        # Use previous functions to implement this part\n",
        "        # Update values of x1 and x2\n",
        "        ####### TODO ########\n",
        "        hessian_inv = hessianInv(hessian(x1,x2))\n",
        "        grad = gradient(x1,x2) \n",
        "\n",
        "        update_rule = hessian_inv @ grad\n",
        "\n",
        "        x1 = x1 - update_rule[0]\n",
        "        x2 = x2 - update_rule[1]\n",
        "\n",
        "        #####################\n",
        "    return x1, x2"
      ]
    },
    {
      "cell_type": "markdown",
      "metadata": {
        "id": "j7dzruGrwjzY"
      },
      "source": [
        "Now we shall go on to finding the minimum value"
      ]
    },
    {
      "cell_type": "code",
      "execution_count": 17,
      "metadata": {
        "id": "Ks9zZ7bpwjzY"
      },
      "outputs": [
        {
          "name": "stdout",
          "output_type": "stream",
          "text": [
            "x1 is: [0.13087466] and x2 is: [4.26835765] (after 100 epochs)\n",
            "The Minimum Value for the function is: [-36.40349774] (after 100 epochs)\n"
          ]
        }
      ],
      "source": [
        "x1 = 1\n",
        "x2 = 3\n",
        "epochs = 100\n",
        "x1, x2 = newtonMethod(x1, x2, epochs)\n",
        "minVal = func(x1, x2)\n",
        "print(f\"x1 is: {x1} and x2 is: {x2} (after {epochs} epochs)\")\n",
        "print(f\"The Minimum Value for the function is: {minVal} (after {epochs} epochs)\")"
      ]
    },
    {
      "cell_type": "markdown",
      "metadata": {
        "id": "xIPYlyC0XVIK"
      },
      "source": [
        "* desired output is (approximately):\n",
        "* x1 is: 0.13 and x2 is: 4.27 (after 100 epochs)\n",
        "* The Minimum Value for the function is: -36.40 (after 100 epochs)"
      ]
    },
    {
      "cell_type": "markdown",
      "metadata": {
        "id": "pByuCA76wjza"
      },
      "source": [
        "Now we go on to plot the wanted shape"
      ]
    },
    {
      "cell_type": "code",
      "execution_count": 18,
      "metadata": {
        "id": "7rClNt-_wjza"
      },
      "outputs": [],
      "source": [
        "####### TODO #########\n",
        "stepSize = 0.5\n",
        "range_x1 = np.arange(-5, 5, step=stepSize)\n",
        "range_x2 = np.arange(0, 10, step=stepSize)"
      ]
    },
    {
      "cell_type": "code",
      "execution_count": 19,
      "metadata": {
        "id": "6gf1X7wRwjzb"
      },
      "outputs": [],
      "source": [
        "points = []\n",
        "# We want to classify the points into three categories:\n",
        "# Close = -1, Far = 0, Further = 1\n",
        "categories = []\n",
        "for x1 in range_x1:\n",
        "    for x2 in range_x2:\n",
        "        # Use Newton method and find the distance as stated in the question\n",
        "        ######## TODO ##########\n",
        "        x1_new , x2_new = newtonMethod(x1,x2, 50)\n",
        "        distance = np.abs(func(x1_new, x2_new) + 36.4)\n",
        "        ########################\n",
        "        if distance < 15:\n",
        "            categories.append(-1)\n",
        "        elif distance < 150:\n",
        "            categories.append(0)\n",
        "        else:\n",
        "            categories.append(1)\n",
        "        points.append([x1, x2])"
      ]
    },
    {
      "cell_type": "code",
      "execution_count": 20,
      "metadata": {
        "id": "dujzas6zwjzb"
      },
      "outputs": [
        {
          "data": {
            "image/png": "[encoded data removed]",
            "text/plain": [
              "<Figure size 700x700 with 1 Axes>"
            ]
          },
          "metadata": {},
          "output_type": "display_data"
        }
      ],
      "source": [
        "plt.figure(figsize=(7,7))\n",
        "plt.title('Scatter plot (based on distance)')\n",
        "########## TODO ###########\n",
        "# Complete the figure using plt.scatter\n",
        "###########################\n",
        "\n",
        "label = {\n",
        "    -1 : 'close',\n",
        "    0 : 'Far',\n",
        "    1 : 'Further'\n",
        "}\n",
        "\n",
        "colors = {\n",
        "    -1 : 'red',\n",
        "    0 : 'Green',\n",
        "    1 : 'Blue'\n",
        "}\n",
        "categories = np.array(categories)\n",
        "points = np.array(points)\n",
        "for g in np.unique(categories):\n",
        "    cur_class = points[categories == g]\n",
        "    plt.scatter(cur_class[:,0], cur_class[:,1], c = colors[g],label = label[g])\n",
        "\n",
        "plt.legend()\n",
        "plt.show()"
      ]
    }
  ],
  "metadata": {
    "colab": {
      "provenance": []
    },
    "kernelspec": {
      "display_name": "Python 3",
      "language": "python",
      "name": "python3"
    },
    "language_info": {
      "codemirror_mode": {
        "name": "ipython",
        "version": 3
      },
      "file_extension": ".py",
      "mimetype": "text/x-python",
      "name": "python",
      "nbconvert_exporter": "python",
      "pygments_lexer": "ipython3",
      "version": "3.10.2"
    },
    "vscode": {
      "interpreter": {
        "hash": "453a250ee6716bd1f3d3d431139d0a3beb425b6b8dc2da8359f25a5c5b7a7e53"
      }
    }
  },
  "nbformat": 4,
  "nbformat_minor": 0
}
